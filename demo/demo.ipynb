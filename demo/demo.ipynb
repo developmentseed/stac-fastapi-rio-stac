{
 "cells": [
  {
   "cell_type": "code",
   "execution_count": null,
   "source": [
    "import requests"
   ],
   "outputs": [],
   "metadata": {}
  },
  {
   "cell_type": "code",
   "execution_count": null,
   "source": [
    "endpoint = \"http://0.0.0.0:8082\""
   ],
   "outputs": [],
   "metadata": {}
  },
  {
   "cell_type": "code",
   "execution_count": null,
   "source": [
    "# create collection \n",
    "test_collection = {\n",
    "    \"id\": \"test\",\n",
    "    \"description\": \"test data.\",\n",
    "    \"stac_version\": \"1.0.0\",\n",
    "    \"license\": \"public-domain\",\n",
    "    \"links\": [],\n",
    "    \"extent\": {\n",
    "        \"spatial\": {\n",
    "            \"bbox\": [\n",
    "                [\n",
    "                    -180.0,\n",
    "                    -90.0,\n",
    "                    180.0,\n",
    "                    90.0\n",
    "                ]\n",
    "            ]\n",
    "        },\n",
    "        \"temporal\": {\n",
    "            \"interval\": [\n",
    "                [\n",
    "                    \"2000-01-01T00:00:00Z\",\n",
    "                    \"null\"\n",
    "                ]\n",
    "            ]\n",
    "        }\n",
    "    }\n",
    "}\n",
    "\n",
    "r = requests.post(f\"{endpoint}/collections\", json=test_collection)\n",
    "if r.status_code not in (200, 409):\n",
    "    r.raise_for_status()"
   ],
   "outputs": [],
   "metadata": {}
  },
  {
   "cell_type": "code",
   "execution_count": null,
   "source": [
    "body = dict(\n",
    "    source=\"https://sentinel-cogs.s3.us-west-2.amazonaws.com/sentinel-s2-l2a-cogs/34/S/GA/2020/3/S2A_34SGA_20200318_0_L2A/TCI.tif\",\n",
    "    id=\"S2A_34SGA_20200318_0_L2A\",\n",
    "    datetime=\"2020-03-28T00:00:00\",\n",
    "    asset_name=\"TCI\",\n",
    "    asset_media_type=\"COG\",\n",
    "    with_proj=True,\n",
    "    with_raster=True,\n",
    ")\n",
    "\n",
    "r = requests.post(f\"{endpoint}/collections/test/add\", json=body)"
   ],
   "outputs": [],
   "metadata": {}
  },
  {
   "cell_type": "code",
   "execution_count": null,
   "source": [
    "\n",
    "print(r.json())\n"
   ],
   "outputs": [],
   "metadata": {}
  },
  {
   "cell_type": "code",
   "execution_count": null,
   "source": [],
   "outputs": [],
   "metadata": {}
  }
 ],
 "metadata": {
  "kernelspec": {
   "display_name": "Python 3.8.2 64-bit ('py38': venv)",
   "language": "python",
   "name": "python382jvsc74a57bd0e0a12c78cd70db9ff05ed68287a27ffcdd32788e19bdb884235a47fc6f52d8ad"
  },
  "language_info": {
   "codemirror_mode": {
    "name": "ipython",
    "version": 3
   },
   "file_extension": ".py",
   "mimetype": "text/x-python",
   "name": "python",
   "nbconvert_exporter": "python",
   "pygments_lexer": "ipython3",
   "version": "3.8.2"
  }
 },
 "nbformat": 4,
 "nbformat_minor": 5
}